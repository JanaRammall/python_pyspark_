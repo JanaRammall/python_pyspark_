{
 "cells": [
  {
   "cell_type": "code",
   "execution_count": 21,
   "id": "962b538b-ad18-45b5-bcd2-a6292488268a",
   "metadata": {},
   "outputs": [],
   "source": [
    "import pyspark\n",
    "import pyspark.sql  as pyspark_sql\n",
    "import pyspark.sql.types as pyspark_types\n",
    "import pyspark.sql.functions  as F\n",
    "from pyspark import SparkContext, SparkConf"
   ]
  },
  {
   "cell_type": "code",
   "execution_count": 22,
   "id": "8ef63aa1-bfdd-4054-a111-9c7dd7794218",
   "metadata": {},
   "outputs": [
    {
     "ename": "ValueError",
     "evalue": "Cannot run multiple SparkContexts at once; existing SparkContext(app=pyspark-shell, master=local[*]) created by __init__ at C:\\Users\\DELL\\AppData\\Local\\Temp\\ipykernel_11144\\2229581302.py:2 ",
     "output_type": "error",
     "traceback": [
      "\u001b[1;31m---------------------------------------------------------------------------\u001b[0m",
      "\u001b[1;31mValueError\u001b[0m                                Traceback (most recent call last)",
      "Cell \u001b[1;32mIn[22], line 2\u001b[0m\n\u001b[0;32m      1\u001b[0m conf \u001b[38;5;241m=\u001b[39m SparkConf()\u001b[38;5;241m.\u001b[39mset(\u001b[38;5;124m\"\u001b[39m\u001b[38;5;124mspark.ui.port\u001b[39m\u001b[38;5;124m\"\u001b[39m, \u001b[38;5;124m\"\u001b[39m\u001b[38;5;124m4050\u001b[39m\u001b[38;5;124m\"\u001b[39m)\n\u001b[1;32m----> 2\u001b[0m sc \u001b[38;5;241m=\u001b[39m pyspark\u001b[38;5;241m.\u001b[39mSparkContext(conf\u001b[38;5;241m=\u001b[39mconf)\n\u001b[0;32m      3\u001b[0m spark \u001b[38;5;241m=\u001b[39m pyspark_sql\u001b[38;5;241m.\u001b[39mSparkSession\u001b[38;5;241m.\u001b[39mbuilder\u001b[38;5;241m.\u001b[39mgetOrCreate()\n",
      "File \u001b[1;32m~\\anaconda3\\Lib\\site-packages\\pyspark\\context.py:201\u001b[0m, in \u001b[0;36mSparkContext.__init__\u001b[1;34m(self, master, appName, sparkHome, pyFiles, environment, batchSize, serializer, conf, gateway, jsc, profiler_cls, udf_profiler_cls, memory_profiler_cls)\u001b[0m\n\u001b[0;32m    195\u001b[0m \u001b[38;5;28;01mif\u001b[39;00m gateway \u001b[38;5;129;01mis\u001b[39;00m \u001b[38;5;129;01mnot\u001b[39;00m \u001b[38;5;28;01mNone\u001b[39;00m \u001b[38;5;129;01mand\u001b[39;00m gateway\u001b[38;5;241m.\u001b[39mgateway_parameters\u001b[38;5;241m.\u001b[39mauth_token \u001b[38;5;129;01mis\u001b[39;00m \u001b[38;5;28;01mNone\u001b[39;00m:\n\u001b[0;32m    196\u001b[0m     \u001b[38;5;28;01mraise\u001b[39;00m \u001b[38;5;167;01mValueError\u001b[39;00m(\n\u001b[0;32m    197\u001b[0m         \u001b[38;5;124m\"\u001b[39m\u001b[38;5;124mYou are trying to pass an insecure Py4j gateway to Spark. This\u001b[39m\u001b[38;5;124m\"\u001b[39m\n\u001b[0;32m    198\u001b[0m         \u001b[38;5;124m\"\u001b[39m\u001b[38;5;124m is not allowed as it is a security risk.\u001b[39m\u001b[38;5;124m\"\u001b[39m\n\u001b[0;32m    199\u001b[0m     )\n\u001b[1;32m--> 201\u001b[0m SparkContext\u001b[38;5;241m.\u001b[39m_ensure_initialized(\u001b[38;5;28mself\u001b[39m, gateway\u001b[38;5;241m=\u001b[39mgateway, conf\u001b[38;5;241m=\u001b[39mconf)\n\u001b[0;32m    202\u001b[0m \u001b[38;5;28;01mtry\u001b[39;00m:\n\u001b[0;32m    203\u001b[0m     \u001b[38;5;28mself\u001b[39m\u001b[38;5;241m.\u001b[39m_do_init(\n\u001b[0;32m    204\u001b[0m         master,\n\u001b[0;32m    205\u001b[0m         appName,\n\u001b[1;32m   (...)\u001b[0m\n\u001b[0;32m    215\u001b[0m         memory_profiler_cls,\n\u001b[0;32m    216\u001b[0m     )\n",
      "File \u001b[1;32m~\\anaconda3\\Lib\\site-packages\\pyspark\\context.py:449\u001b[0m, in \u001b[0;36mSparkContext._ensure_initialized\u001b[1;34m(cls, instance, gateway, conf)\u001b[0m\n\u001b[0;32m    446\u001b[0m     callsite \u001b[38;5;241m=\u001b[39m SparkContext\u001b[38;5;241m.\u001b[39m_active_spark_context\u001b[38;5;241m.\u001b[39m_callsite\n\u001b[0;32m    448\u001b[0m     \u001b[38;5;66;03m# Raise error if there is already a running Spark context\u001b[39;00m\n\u001b[1;32m--> 449\u001b[0m     \u001b[38;5;28;01mraise\u001b[39;00m \u001b[38;5;167;01mValueError\u001b[39;00m(\n\u001b[0;32m    450\u001b[0m         \u001b[38;5;124m\"\u001b[39m\u001b[38;5;124mCannot run multiple SparkContexts at once; \u001b[39m\u001b[38;5;124m\"\u001b[39m\n\u001b[0;32m    451\u001b[0m         \u001b[38;5;124m\"\u001b[39m\u001b[38;5;124mexisting SparkContext(app=\u001b[39m\u001b[38;5;132;01m%s\u001b[39;00m\u001b[38;5;124m, master=\u001b[39m\u001b[38;5;132;01m%s\u001b[39;00m\u001b[38;5;124m)\u001b[39m\u001b[38;5;124m\"\u001b[39m\n\u001b[0;32m    452\u001b[0m         \u001b[38;5;124m\"\u001b[39m\u001b[38;5;124m created by \u001b[39m\u001b[38;5;132;01m%s\u001b[39;00m\u001b[38;5;124m at \u001b[39m\u001b[38;5;132;01m%s\u001b[39;00m\u001b[38;5;124m:\u001b[39m\u001b[38;5;132;01m%s\u001b[39;00m\u001b[38;5;124m \u001b[39m\u001b[38;5;124m\"\u001b[39m\n\u001b[0;32m    453\u001b[0m         \u001b[38;5;241m%\u001b[39m (\n\u001b[0;32m    454\u001b[0m             currentAppName,\n\u001b[0;32m    455\u001b[0m             currentMaster,\n\u001b[0;32m    456\u001b[0m             callsite\u001b[38;5;241m.\u001b[39mfunction,\n\u001b[0;32m    457\u001b[0m             callsite\u001b[38;5;241m.\u001b[39mfile,\n\u001b[0;32m    458\u001b[0m             callsite\u001b[38;5;241m.\u001b[39mlinenum,\n\u001b[0;32m    459\u001b[0m         )\n\u001b[0;32m    460\u001b[0m     )\n\u001b[0;32m    461\u001b[0m \u001b[38;5;28;01melse\u001b[39;00m:\n\u001b[0;32m    462\u001b[0m     SparkContext\u001b[38;5;241m.\u001b[39m_active_spark_context \u001b[38;5;241m=\u001b[39m instance\n",
      "\u001b[1;31mValueError\u001b[0m: Cannot run multiple SparkContexts at once; existing SparkContext(app=pyspark-shell, master=local[*]) created by __init__ at C:\\Users\\DELL\\AppData\\Local\\Temp\\ipykernel_11144\\2229581302.py:2 "
     ]
    }
   ],
   "source": [
    "conf = SparkConf().set(\"spark.ui.port\", \"4050\")\n",
    "sc = pyspark.SparkContext(conf=conf)\n",
    "spark = pyspark_sql.SparkSession.builder.getOrCreate()"
   ]
  },
  {
   "cell_type": "code",
   "execution_count": null,
   "id": "90ff5b1e-8fc3-444d-a0bd-00fac26979ee",
   "metadata": {},
   "outputs": [],
   "source": [
    "from pyspark.sql import SparkSession\n",
    "from pyspark.sql.functions import col, dense_rank,desc\n",
    "from pyspark.sql.window import Window\n",
    "\n",
    "# Initialize Spark session\n",
    "spark = SparkSession.builder.appName(\"FIFA\").getOrCreate()\n"
   ]
  },
  {
   "cell_type": "code",
   "execution_count": null,
   "id": "9b8e695f-cb63-42f6-9086-312fa2fcec79",
   "metadata": {},
   "outputs": [],
   "source": [
    "df = spark.read.csv('california_cities.csv',header=True)\n",
    "df=df.drop(F.col('_c0'))\n"
   ]
  },
  {
   "cell_type": "code",
   "execution_count": 23,
   "id": "2e298577-d23d-43ca-b5db-472def7721a9",
   "metadata": {},
   "outputs": [
    {
     "name": "stdout",
     "output_type": "stream",
     "text": [
      "+--------------+------------------+-------------------+-----------+------------+----------------+------------------+------------------+--------------------+------------------+------------------+--------------------+\n",
      "|          city|              latd|              longd|elevation_m|elevation_ft|population_total|  area_total_sq_mi|   area_land_sq_mi|    area_water_sq_mi|    area_total_km2|     area_land_km2|      area_water_km2|\n",
      "+--------------+------------------+-------------------+-----------+------------+----------------+------------------+------------------+--------------------+------------------+------------------+--------------------+\n",
      "|      Adelanto| 34.57611111111112|-117.43277777777779|      875.0|      2871.0|           31765|            56.027| 56.00899999999999|0.018000000000000002|           145.107|           145.062|               0.046|\n",
      "|   AgouraHills| 34.15333333333333|-118.76166666666667|      281.0|       922.0|           20330|             7.822| 7.792999999999999|0.028999999999999998|             20.26|            20.184|               0.076|\n",
      "|       Alameda| 37.75611111111111|-122.27444444444444|       NULL|        33.0|           75467|             22.96|10.610999999999999|              12.349|            59.465|            27.482|              31.983|\n",
      "|        Albany|37.886944444444445|-122.29777777777778|       NULL|        43.0|           18969|             5.465|             1.788|               3.677|            14.155|             4.632|               9.524|\n",
      "|      Alhambra|34.081944444444446|           -118.135|      150.0|       492.0|           83089| 7.632000000000001|             7.631|               0.001|            19.766|19.762999999999998|               0.003|\n",
      "|    AlisoViejo|            33.575|-117.72555555555556|      127.0|       417.0|           47823|             7.472|             7.472|                 0.0|            19.352|            19.352|                 0.0|\n",
      "|       Alturas| 41.48722222222222|          -120.5425|     1332.0|      4370.0|            2827|             2.449|             2.435|0.013999999999999999|6.3420000000000005|             6.306|0.036000000000000004|\n",
      "|    AmadorCity|38.419444444444444|-120.82416666666666|      280.0|       919.0|             185|             0.314|             0.314|                 0.0|             0.813|             0.813|                 0.0|\n",
      "|AmericanCanyon|38.168055555555554|          -122.2525|       14.0|        46.0|           19454|             4.845|             4.837|               0.008|            12.548|12.527000000000001|               0.021|\n",
      "|       Anaheim|33.836111111111116|-117.88972222222223|       48.0|       157.0|          336000| 50.81100000000001|            49.835|               0.976|             131.6|129.07299999999998|  2.5269999999999997|\n",
      "|      Anderson|40.452222222222225|-122.29666666666667|      132.0|       430.0|            9932|              6.62| 6.372000000000001|               0.248|            17.145|            16.504|               0.642|\n",
      "|    AngelsCamp|38.068333333333335|-120.53972222222222|      420.0|      1378.0|            3836|             3.637|             3.628|0.009000000000000001|             9.421|             9.397|               0.024|\n",
      "|       Antioch|            38.005|-121.80583333333333|       13.0|        43.0|          107100|29.083000000000002|            28.349|  0.7340000000000001|            75.324|            73.422|               1.902|\n",
      "|   AppleValley|34.516666666666666|-117.21666666666667|      898.0|      2946.0|           69135|            73.523|            73.193|                0.33|           190.426|            189.57|               0.856|\n",
      "|       Arcadia|34.132777777777775| -118.0363888888889|      147.0|       482.0|           56364|            11.133|            10.925| 0.20800000000000002|            28.836|            28.296|                0.54|\n",
      "|        Arcata| 40.86638888888889|-124.08277777777778|       NULL|        23.0|           17231|10.994000000000002| 9.097000000000001|  1.8969999999999998|28.473000000000003|            23.561|               4.912|\n",
      "|  ArroyoGrande| 35.12083333333334|-120.58666666666666|       36.0|       118.0|           17716|             5.835|             5.835|                 0.0|            15.113|            15.113|                 0.0|\n",
      "|       Artesia|33.867222222222225|-118.08055555555555|       16.0|        52.0|           16522|             1.621|             1.621|                 0.0|             4.197|             4.197|                 0.0|\n",
      "|         Arvin| 35.20916666666667|-118.82833333333333|      137.0|       449.0|           19304|             4.819|             4.819|                 0.0|12.482000000000001|12.482000000000001|                 0.0|\n",
      "|    Atascadero| 35.48416666666667|          -120.6725|      268.0|       879.0|           28310|             26.13|            25.641|               0.489|            67.675| 66.40899999999999|               1.265|\n",
      "+--------------+------------------+-------------------+-----------+------------+----------------+------------------+------------------+--------------------+------------------+------------------+--------------------+\n",
      "only showing top 20 rows\n",
      "\n"
     ]
    }
   ],
   "source": [
    "df.show()"
   ]
  },
  {
   "cell_type": "markdown",
   "id": "b4815c53-a03d-41ce-9ce1-01573d5ef295",
   "metadata": {},
   "source": [
    "1. Find out the missing values in each column and store them in the variable col_missing_values"
   ]
  },
  {
   "cell_type": "code",
   "execution_count": 24,
   "id": "eb80e28a-bb2c-4ec3-ba4b-c82b1b3f4051",
   "metadata": {},
   "outputs": [
    {
     "name": "stdout",
     "output_type": "stream",
     "text": [
      "+----+----+-----+-----------+------------+----------------+----------------+---------------+----------------+--------------+-------------+--------------+\n",
      "|city|latd|longd|elevation_m|elevation_ft|population_total|area_total_sq_mi|area_land_sq_mi|area_water_sq_mi|area_total_km2|area_land_km2|area_water_km2|\n",
      "+----+----+-----+-----------+------------+----------------+----------------+---------------+----------------+--------------+-------------+--------------+\n",
      "|   0|   0|    0|         48|          12|               0|               2|              0|               1|             5|            4|             4|\n",
      "+----+----+-----+-----------+------------+----------------+----------------+---------------+----------------+--------------+-------------+--------------+\n",
      "\n"
     ]
    }
   ],
   "source": [
    "col_missing_values={}\n",
    "from pyspark.sql.functions import col,isnan,when,count\n",
    "df2 = df.select([count(when(col(c).contains('None') | \\\n",
    "                            col(c).contains('NULL') | \\\n",
    "                            (col(c) == '' ) | \\\n",
    "                            col(c).isNull() | \\\n",
    "                            isnan(c), c \n",
    "                           )).alias(c)\n",
    "                    for c in df.columns])\n",
    "df2.show()"
   ]
  },
  {
   "cell_type": "code",
   "execution_count": 25,
   "id": "eacba9f6-4022-44bc-8e09-5eb25e0161ad",
   "metadata": {},
   "outputs": [
    {
     "name": "stdout",
     "output_type": "stream",
     "text": [
      "+-------+-----------+------------------+-------------------+-----------------+------------------+------------------+------------------+------------------+------------------+-----------------+-----------------+------------------+\n",
      "|summary|       city|              latd|              longd|      elevation_m|      elevation_ft|  population_total|  area_total_sq_mi|   area_land_sq_mi|  area_water_sq_mi|   area_total_km2|    area_land_km2|    area_water_km2|\n",
      "+-------+-----------+------------------+-------------------+-----------------+------------------+------------------+------------------+------------------+------------------+-----------------+-----------------+------------------+\n",
      "|  count|        482|               482|                482|              434|               470|               482|               480|               482|               481|              477|              478|               478|\n",
      "|   mean|       NULL|36.095088081604395|-119.83771392577232|180.4167050691244| 567.1687234042553|64894.933609958505|18.442183333333325|16.840981327800833|1.5896299376299374|46.75328301886789|43.54702092050211| 3.125178242677823|\n",
      "| stddev|       NULL|2.2980059050453243| 2.1476763855572965|309.5318252490447|1001.2657219060482|203204.09667585444| 36.36323029096668|  32.6946472833554| 9.490386185737393|90.97226915750497|84.93302153206136|11.562269106426337|\n",
      "|    min|   Adelanto| 32.57833333333333|-114.59638888888888|            -12.0|            -180.0|                 1|             0.314|             0.314|               0.0|            0.813|            0.813|               0.0|\n",
      "|    max|YuccaValley|            41.965|-124.26333333333334|             99.0|            7880.0|             99478|            94.975|            97.915|             9.877|           97.475|           97.699| 9.722000000000001|\n",
      "+-------+-----------+------------------+-------------------+-----------------+------------------+------------------+------------------+------------------+------------------+-----------------+-----------------+------------------+\n",
      "\n"
     ]
    }
   ],
   "source": [
    "df.describe().show()"
   ]
  },
  {
   "cell_type": "markdown",
   "id": "d64df9f9-59da-4c81-b506-f0c2cb4a5287",
   "metadata": {},
   "source": [
    "Find the total missing values in the whole dataset and store the number in df_missing_values"
   ]
  },
  {
   "cell_type": "code",
   "execution_count": 26,
   "id": "720b9b9c-fbba-4e2b-adea-97b83dce8083",
   "metadata": {},
   "outputs": [
    {
     "data": {
      "text/plain": [
       "76"
      ]
     },
     "execution_count": 26,
     "metadata": {},
     "output_type": "execute_result"
    }
   ],
   "source": [
    "first_row = df2.head()  # Get the first row as a Row object\n",
    "sum_first_row = sum(first_row)  # Sum the values of the first row\n",
    "sum_first_row"
   ]
  },
  {
   "cell_type": "code",
   "execution_count": 27,
   "id": "089086fc-911e-48df-be9a-6159bfd4a74b",
   "metadata": {},
   "outputs": [
    {
     "name": "stdout",
     "output_type": "stream",
     "text": [
      "76\n"
     ]
    }
   ],
   "source": [
    "i = 0\n",
    "sum_value = 0  # Changed variable name from 'sum' to 'sum_value' to avoid conflict with built-in 'sum' function\n",
    "for c in range(len(df2.columns)):\n",
    "    sum_value += df2.collect()[0][i]\n",
    "    i += 1\n",
    "\n",
    "print(sum_value)\n",
    "    "
   ]
  },
  {
   "cell_type": "markdown",
   "id": "44b1598a-9771-4339-9c4e-4be0c68a20b0",
   "metadata": {},
   "source": [
    "\n",
    "Drop the column area_water_percent as it has the most of its values missing"
   ]
  },
  {
   "cell_type": "code",
   "execution_count": 28,
   "id": "beb917b4-ccb9-4ee4-a44c-756b1001a1ee",
   "metadata": {},
   "outputs": [],
   "source": [
    "df= df.drop('area_water_percent')"
   ]
  },
  {
   "cell_type": "code",
   "execution_count": 29,
   "id": "dc96333f-100a-488c-a1ff-28fac8a7d7f7",
   "metadata": {},
   "outputs": [
    {
     "name": "stdout",
     "output_type": "stream",
     "text": [
      "+--------------+------------------+-------------------+-----------+------------+----------------+------------------+------------------+--------------------+------------------+------------------+--------------------+\n",
      "|          city|              latd|              longd|elevation_m|elevation_ft|population_total|  area_total_sq_mi|   area_land_sq_mi|    area_water_sq_mi|    area_total_km2|     area_land_km2|      area_water_km2|\n",
      "+--------------+------------------+-------------------+-----------+------------+----------------+------------------+------------------+--------------------+------------------+------------------+--------------------+\n",
      "|      Adelanto| 34.57611111111112|-117.43277777777779|      875.0|      2871.0|           31765|            56.027| 56.00899999999999|0.018000000000000002|           145.107|           145.062|               0.046|\n",
      "|   AgouraHills| 34.15333333333333|-118.76166666666667|      281.0|       922.0|           20330|             7.822| 7.792999999999999|0.028999999999999998|             20.26|            20.184|               0.076|\n",
      "|       Alameda| 37.75611111111111|-122.27444444444444|       NULL|        33.0|           75467|             22.96|10.610999999999999|              12.349|            59.465|            27.482|              31.983|\n",
      "|        Albany|37.886944444444445|-122.29777777777778|       NULL|        43.0|           18969|             5.465|             1.788|               3.677|            14.155|             4.632|               9.524|\n",
      "|      Alhambra|34.081944444444446|           -118.135|      150.0|       492.0|           83089| 7.632000000000001|             7.631|               0.001|            19.766|19.762999999999998|               0.003|\n",
      "|    AlisoViejo|            33.575|-117.72555555555556|      127.0|       417.0|           47823|             7.472|             7.472|                 0.0|            19.352|            19.352|                 0.0|\n",
      "|       Alturas| 41.48722222222222|          -120.5425|     1332.0|      4370.0|            2827|             2.449|             2.435|0.013999999999999999|6.3420000000000005|             6.306|0.036000000000000004|\n",
      "|    AmadorCity|38.419444444444444|-120.82416666666666|      280.0|       919.0|             185|             0.314|             0.314|                 0.0|             0.813|             0.813|                 0.0|\n",
      "|AmericanCanyon|38.168055555555554|          -122.2525|       14.0|        46.0|           19454|             4.845|             4.837|               0.008|            12.548|12.527000000000001|               0.021|\n",
      "|       Anaheim|33.836111111111116|-117.88972222222223|       48.0|       157.0|          336000| 50.81100000000001|            49.835|               0.976|             131.6|129.07299999999998|  2.5269999999999997|\n",
      "|      Anderson|40.452222222222225|-122.29666666666667|      132.0|       430.0|            9932|              6.62| 6.372000000000001|               0.248|            17.145|            16.504|               0.642|\n",
      "|    AngelsCamp|38.068333333333335|-120.53972222222222|      420.0|      1378.0|            3836|             3.637|             3.628|0.009000000000000001|             9.421|             9.397|               0.024|\n",
      "|       Antioch|            38.005|-121.80583333333333|       13.0|        43.0|          107100|29.083000000000002|            28.349|  0.7340000000000001|            75.324|            73.422|               1.902|\n",
      "|   AppleValley|34.516666666666666|-117.21666666666667|      898.0|      2946.0|           69135|            73.523|            73.193|                0.33|           190.426|            189.57|               0.856|\n",
      "|       Arcadia|34.132777777777775| -118.0363888888889|      147.0|       482.0|           56364|            11.133|            10.925| 0.20800000000000002|            28.836|            28.296|                0.54|\n",
      "|        Arcata| 40.86638888888889|-124.08277777777778|       NULL|        23.0|           17231|10.994000000000002| 9.097000000000001|  1.8969999999999998|28.473000000000003|            23.561|               4.912|\n",
      "|  ArroyoGrande| 35.12083333333334|-120.58666666666666|       36.0|       118.0|           17716|             5.835|             5.835|                 0.0|            15.113|            15.113|                 0.0|\n",
      "|       Artesia|33.867222222222225|-118.08055555555555|       16.0|        52.0|           16522|             1.621|             1.621|                 0.0|             4.197|             4.197|                 0.0|\n",
      "|         Arvin| 35.20916666666667|-118.82833333333333|      137.0|       449.0|           19304|             4.819|             4.819|                 0.0|12.482000000000001|12.482000000000001|                 0.0|\n",
      "|    Atascadero| 35.48416666666667|          -120.6725|      268.0|       879.0|           28310|             26.13|            25.641|               0.489|            67.675| 66.40899999999999|               1.265|\n",
      "+--------------+------------------+-------------------+-----------+------------+----------------+------------------+------------------+--------------------+------------------+------------------+--------------------+\n",
      "only showing top 20 rows\n",
      "\n"
     ]
    }
   ],
   "source": [
    "df.show()"
   ]
  },
  {
   "cell_type": "markdown",
   "id": "4ca3a2e1-e271-478a-bcda-50ad46bc10c5",
   "metadata": {},
   "source": [
    "Drop the rows having missing values and store the resulting DataFrame in the variable df_narows_dropped"
   ]
  },
  {
   "cell_type": "code",
   "execution_count": 30,
   "id": "0490b2a8-242c-4619-8eb2-f15bb2170c31",
   "metadata": {},
   "outputs": [],
   "source": [
    "df_narows_dropped=df.dropna()"
   ]
  },
  {
   "cell_type": "markdown",
   "id": "14550935-d419-475d-9752-6cfb12ad47e0",
   "metadata": {},
   "source": [
    "Drop Rows with More Than 5 Missing Values"
   ]
  },
  {
   "cell_type": "code",
   "execution_count": 31,
   "id": "bbb5861a-777d-442d-885d-27b7e797e0b5",
   "metadata": {},
   "outputs": [],
   "source": [
    "df_rows_dropped=df.na.drop(how='any', thresh=5, subset=None)"
   ]
  },
  {
   "cell_type": "markdown",
   "id": "def0b098-e43d-4925-bc5e-d40e405a4241",
   "metadata": {},
   "source": [
    "Eliminate the columns in the DataFrame that contain missing values. Store the resulting DataFrame in the variable df_nacols_dropped."
   ]
  },
  {
   "cell_type": "code",
   "execution_count": 32,
   "id": "71d9c10e-5421-4b20-9266-b367c22cebbb",
   "metadata": {},
   "outputs": [],
   "source": [
    "df3 = df.select([\n",
    "\n",
    "  count(when(F.col(co).isNull(),co)).alias(co)  \n",
    "for co in df.columns\n",
    "])\n",
    "\n",
    "df3.collect()[0]\n",
    "bag=[]\n",
    "idx=0\n",
    "df_nacols_dropped=df\n",
    "for idx in range(len(df.columns)):\n",
    "    if df3.collect()[0][idx]!=0:\n",
    "        bag.append(df.columns[idx])\n",
    "for el in bag:\n",
    "   df_nacols_dropped=df_nacols_dropped.drop(el) "
   ]
  },
  {
   "cell_type": "code",
   "execution_count": 33,
   "id": "90daf2f0-85cc-4945-aa56-2e81de9674a4",
   "metadata": {},
   "outputs": [
    {
     "name": "stdout",
     "output_type": "stream",
     "text": [
      "+----+----+-----+----------------+---------------+\n",
      "|city|latd|longd|population_total|area_land_sq_mi|\n",
      "+----+----+-----+----------------+---------------+\n",
      "|   0|   0|    0|               0|              0|\n",
      "+----+----+-----+----------------+---------------+\n",
      "\n"
     ]
    }
   ],
   "source": [
    "df_nacols_dropped= df_nacols_dropped.select([\n",
    "\n",
    "  count(when(F.col(co).isNull(),co)).alias(co)  \n",
    "for co in df_nacols_dropped.columns\n",
    "])\n",
    "df_nacols_dropped.show()"
   ]
  },
  {
   "cell_type": "markdown",
   "id": "5fec45c0-86c9-49e4-b550-b31b1d5a7c0e",
   "metadata": {},
   "source": [
    "Fill the 50 missing values in elevation_m with -999. Store your result in the variable filled_elevation_m"
   ]
  },
  {
   "cell_type": "code",
   "execution_count": 34,
   "id": "e75b9863-8ba9-4fe7-8b23-77a9d966e7bd",
   "metadata": {},
   "outputs": [
    {
     "name": "stdout",
     "output_type": "stream",
     "text": [
      "+-------+------------------+\n",
      "|summary|      elevation_ft|\n",
      "+-------+------------------+\n",
      "|  count|               470|\n",
      "|   mean| 567.1687234042553|\n",
      "| stddev|1001.2657219060482|\n",
      "|    min|            -180.0|\n",
      "|    max|            7880.0|\n",
      "+-------+------------------+\n",
      "\n",
      "None\n"
     ]
    }
   ],
   "source": [
    "print(df.select('elevation_ft').describe().show())\n",
    "df4=df.na.fill(value=6,subset=['elevation_ft'])"
   ]
  },
  {
   "cell_type": "code",
   "execution_count": 35,
   "id": "7f649d5d-3ab0-4948-ad82-dfc1db6718ff",
   "metadata": {},
   "outputs": [
    {
     "name": "stdout",
     "output_type": "stream",
     "text": [
      "+-------+-----------------+\n",
      "|summary|     elevation_ft|\n",
      "+-------+-----------------+\n",
      "|  count|              482|\n",
      "|   mean|553.1977178423236|\n",
      "| stddev|992.5636617124128|\n",
      "|    min|           -180.0|\n",
      "|    max|           7880.0|\n",
      "+-------+-----------------+\n",
      "\n"
     ]
    }
   ],
   "source": [
    "df4.select('elevation_ft').describe().show()"
   ]
  },
  {
   "cell_type": "code",
   "execution_count": 36,
   "id": "d738582e-b785-44d2-ae90-8bb25e8316cf",
   "metadata": {},
   "outputs": [
    {
     "name": "stdout",
     "output_type": "stream",
     "text": [
      "root\n",
      " |-- city: string (nullable = true)\n",
      " |-- latd: string (nullable = true)\n",
      " |-- longd: string (nullable = true)\n",
      " |-- elevation_m: string (nullable = true)\n",
      " |-- elevation_ft: double (nullable = true)\n",
      " |-- population_total: string (nullable = true)\n",
      " |-- area_total_sq_mi: string (nullable = true)\n",
      " |-- area_land_sq_mi: string (nullable = true)\n",
      " |-- area_water_sq_mi: string (nullable = true)\n",
      " |-- area_total_km2: string (nullable = true)\n",
      " |-- area_land_km2: string (nullable = true)\n",
      " |-- area_water_km2: string (nullable = true)\n",
      "\n",
      "root\n",
      " |-- city: string (nullable = true)\n",
      " |-- latd: string (nullable = true)\n",
      " |-- longd: string (nullable = true)\n",
      " |-- elevation_m: string (nullable = true)\n",
      " |-- elevation_ft: double (nullable = true)\n",
      " |-- population_total: string (nullable = true)\n",
      " |-- area_total_sq_mi: string (nullable = true)\n",
      " |-- area_land_sq_mi: string (nullable = true)\n",
      " |-- area_water_sq_mi: string (nullable = true)\n",
      " |-- area_total_km2: string (nullable = true)\n",
      " |-- area_land_km2: string (nullable = true)\n",
      " |-- area_water_km2: string (nullable = true)\n",
      "\n",
      "Description after filling nulls:\n",
      "+-------+------------------+\n",
      "|summary|      elevation_ft|\n",
      "+-------+------------------+\n",
      "|  count|               482|\n",
      "|   mean|17978.766182572617|\n",
      "| stddev|109085.17779983826|\n",
      "|    min|            -180.0|\n",
      "|    max|          699933.0|\n",
      "+-------+------------------+\n",
      "\n"
     ]
    }
   ],
   "source": [
    "\n",
    "# Check the schema of the DataFrame\n",
    "df.printSchema()\n",
    "\n",
    "# If the column is not of the correct numeric type, cast it\n",
    "df = df.withColumn(\"elevation_ft\", col(\"elevation_ft\").cast(\"double\"))\n",
    "\n",
    "# Verify schema after casting\n",
    "df.printSchema()\n",
    "\n",
    "# Fill null values in the 'elevation_ft' column with a numeric value, e.g., 6\n",
    "df3 = df.na.fill(value=699933, subset=['elevation_ft'])\n",
    "\n",
    "# Print description after filling nulls\n",
    "print(\"Description after filling nulls:\")\n",
    "df3.select('elevation_ft').describe().show()"
   ]
  },
  {
   "cell_type": "code",
   "execution_count": 40,
   "id": "98165ce3-705d-4de0-a93e-289e6f659ed4",
   "metadata": {},
   "outputs": [],
   "source": [
    "from pyspark.sql.functions import mean\n",
    "#define function to fill null values with column mean\n",
    "def fillna_mean(df, include=set()): \n",
    "    means = df.agg(*(\n",
    "        mean(x).alias(x) for x in df.columns if x in include\n",
    "    ))\n",
    "# getting the first row and then transforming it into dictionary and then mapping\n",
    "    return df.fillna(means.first().asDict())\n",
    "\n",
    "#fill null values with mean in specific columns\n",
    "df = fillna_mean(df, ['area_land_km2', 'latd'])\n"
   ]
  },
  {
   "cell_type": "code",
   "execution_count": 41,
   "id": "f69d1a32-b94d-4fbc-9d0d-9e2a8a5b4942",
   "metadata": {},
   "outputs": [],
   "source": [
    "include=df.columns\n",
    "means = df.agg(*(\n",
    "        F.mean(x).alias(x) for x in df.columns if x in include \n",
    "    ))\n"
   ]
  },
  {
   "cell_type": "code",
   "execution_count": 42,
   "id": "9469d7e4-f26b-40dc-814e-01fdf206ff78",
   "metadata": {},
   "outputs": [
    {
     "name": "stdout",
     "output_type": "stream",
     "text": [
      "+----+------------------+-------------------+-----------------+-----------------+------------------+------------------+------------------+------------------+-----------------+-----------------+-----------------+\n",
      "|city|              latd|              longd|      elevation_m|     elevation_ft|  population_total|  area_total_sq_mi|   area_land_sq_mi|  area_water_sq_mi|   area_total_km2|    area_land_km2|   area_water_km2|\n",
      "+----+------------------+-------------------+-----------------+-----------------+------------------+------------------+------------------+------------------+-----------------+-----------------+-----------------+\n",
      "|NULL|36.095088081604395|-119.83771392577232|180.4167050691244|567.1687234042553|64894.933609958505|18.442183333333325|16.840981327800833|1.5896299376299374|46.75328301886789|43.54702092050211|3.125178242677823|\n",
      "+----+------------------+-------------------+-----------------+-----------------+------------------+------------------+------------------+------------------+-----------------+-----------------+-----------------+\n",
      "\n"
     ]
    }
   ],
   "source": [
    "means.show()"
   ]
  },
  {
   "cell_type": "code",
   "execution_count": null,
   "id": "1c3e224c-f922-464b-9235-59dfcc6a3aab",
   "metadata": {},
   "outputs": [],
   "source": []
  },
  {
   "cell_type": "code",
   "execution_count": null,
   "id": "9417faa8-ecb2-434f-8c0f-3a0671b54d6c",
   "metadata": {},
   "outputs": [],
   "source": []
  },
  {
   "cell_type": "code",
   "execution_count": null,
   "id": "8efcc6a3-cf32-4f31-b54f-7054c3f6fedc",
   "metadata": {},
   "outputs": [],
   "source": []
  }
 ],
 "metadata": {
  "kernelspec": {
   "display_name": "Python 3 (ipykernel)",
   "language": "python",
   "name": "python3"
  },
  "language_info": {
   "codemirror_mode": {
    "name": "ipython",
    "version": 3
   },
   "file_extension": ".py",
   "mimetype": "text/x-python",
   "name": "python",
   "nbconvert_exporter": "python",
   "pygments_lexer": "ipython3",
   "version": "3.11.5"
  }
 },
 "nbformat": 4,
 "nbformat_minor": 5
}
